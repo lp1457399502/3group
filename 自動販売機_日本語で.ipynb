{
  "nbformat": 4,
  "nbformat_minor": 0,
  "metadata": {
    "colab": {
      "name": "自動販売機   日本語で",
      "provenance": []
    },
    "kernelspec": {
      "name": "python3",
      "display_name": "Python 3"
    }
  },
  "cells": [
    {
      "cell_type": "code",
      "metadata": {
        "id": "fMuMNyimlLoV",
        "colab_type": "code",
        "outputId": "b2044c93-0e51-40cd-dd2a-5067bfd992c4",
        "colab": {
          "base_uri": "https://localhost:8080/",
          "height": 156
        }
      },
      "source": [
        "def print_menu():\n",
        "  global choice\n",
        "  global product_price\n",
        "  while True:\n",
        "        global a\n",
        "        global product\n",
        "        # a = \"コーラ\"\n",
        "        print(\"1). コーラ 120円\")\n",
        "        print(\"2). コーヒー 110円\")\n",
        "        print(\"3). 水 100円\")\n",
        "        print(\"4). カルビス 130円\")\n",
        "        print(\"5). お茶 140円\")\n",
        "        print(\"6). もも水 150円\")\n",
        "        choice = int(input(\"在庫のドリンクをお選びください\"))\n",
        "        if choice == 1:\n",
        "            product = \"コーラ\"\n",
        "            product_price = 120\n",
        "            break\n",
        "        elif choice == 2:\n",
        "            product = \"コーヒー\"\n",
        "            product_price = 110\n",
        "            break\n",
        "        elif choice == 3:\n",
        "            product = \"水\"\n",
        "            product_price = 100\n",
        "            break\n",
        "        elif choice == 4:\n",
        "            product = \"カルビス\"\n",
        "            product_price = 130\n",
        "            break\n",
        "        elif choice == 5:\n",
        "            product = \"お茶\"\n",
        "            product_price = 140\n",
        "            break\n",
        "        elif choice == 6:\n",
        "            product = \"もも水\"\n",
        "            product_price = 150\n",
        "            break\n",
        "        else:\n",
        "            print(\"入力が違いましたので お直しください\")\n",
        "def auto_seller():\n",
        "    sum_money = 0\n",
        "    money = int(input(\"お金をお入れください\"))\n",
        "    if money < product_price:\n",
        "        sum_money = sum_money + money\n",
        "        #money = int(input(\"足りないので もう一回お入れください\"))\n",
        "        while True:\n",
        "            money = int(input(\"足りないので もう一回お入れください\"))\n",
        "            sum_money = sum_money + money\n",
        "            if sum_money >= product_price:\n",
        "                left_money = sum_money - product_price\n",
        "                print(\"お客様 選んだドリンクは {} です，おつりは {}円 です\".format(choice, left_money))\n",
        "                break\n",
        "    else:\n",
        "        left_money = money - product_price\n",
        "        print(\"お客様 選んだドリンクは {} です，おつりは {}円 です\".format(product, left_money))\n",
        "print_menu()\n",
        "auto_seller()"
      ],
      "execution_count": 0,
      "outputs": [
        {
          "output_type": "stream",
          "text": [
            "1). コーラ 120円\n",
            "2). コーヒー 110円\n",
            "3). 水 100円\n",
            "4). カルビス 130円\n",
            "5). お茶 140円\n",
            "6). もも水 150円\n"
          ],
          "name": "stdout"
        }
      ]
    }
  ]
}